{
  "nbformat": 4,
  "nbformat_minor": 0,
  "metadata": {
    "colab": {
      "provenance": []
    },
    "kernelspec": {
      "name": "python3",
      "display_name": "Python 3"
    },
    "language_info": {
      "name": "python"
    }
  },
  "cells": [
    {
      "cell_type": "markdown",
      "metadata": {
        "id": "qgAtirVolsOA"
      },
      "source": [
        "#**Analysis/Parsing of the SSL Certificate**\n"
      ]
    },
    {
      "cell_type": "markdown",
      "metadata": {
        "id": "g9yq5XyC_57G"
      },
      "source": [
        "#Certificate chain:\n",
        "\n",
        "\n",
        "*   Starts with certiftcate for the *client/server*\n",
        "*   Ends with *self-signed* certificate\n",
        "\n",
        "\n",
        "\n"
      ]
    },
    {
      "cell_type": "markdown",
      "metadata": {
        "id": "KESUFUxb_j9Y"
      },
      "source": [
        "#Certificate for the server"
      ]
    },
    {
      "cell_type": "code",
      "metadata": {
        "colab": {
          "base_uri": "https://localhost:8080/"
        },
        "id": "EwyWFkGZCRfj",
        "outputId": "795e5de3-f729-4f11-815d-39f4df227feb"
      },
      "source": [
        "#install and import of required libraries\n",
        "!pip install pyopenssl\n",
        "import ssl,socket,certifi,os,json\n",
        "from cryptography import x509\n",
        "from cryptography.hazmat.backends import default_backend"
      ],
      "execution_count": 1,
      "outputs": [
        {
          "output_type": "stream",
          "name": "stdout",
          "text": [
            "Requirement already satisfied: pyopenssl in /usr/local/lib/python3.10/dist-packages (23.2.0)\n",
            "Requirement already satisfied: cryptography!=40.0.0,!=40.0.1,<42,>=38.0.0 in /usr/local/lib/python3.10/dist-packages (from pyopenssl) (41.0.3)\n",
            "Requirement already satisfied: cffi>=1.12 in /usr/local/lib/python3.10/dist-packages (from cryptography!=40.0.0,!=40.0.1,<42,>=38.0.0->pyopenssl) (1.15.1)\n",
            "Requirement already satisfied: pycparser in /usr/local/lib/python3.10/dist-packages (from cffi>=1.12->cryptography!=40.0.0,!=40.0.1,<42,>=38.0.0->pyopenssl) (2.21)\n"
          ]
        }
      ]
    },
    {
      "cell_type": "code",
      "metadata": {
        "id": "yVLQ4QlnEU0U"
      },
      "source": [
        "#host and port of the url to analyse SSL certificate\n",
        "host = 'pilot.wright.edu'\n",
        "port = 443\n",
        "\n",
        "#creating a tuple of address using host and port\n",
        "address = (host,port)\n",
        "\n",
        "#The function get_server_certificate() returns the digital certificate of a server host\n",
        "encoded_certificate = ssl.get_server_certificate(address)\n",
        "\n",
        "                                      #or\n",
        "\n",
        "#Validates it if root certificates are provided\n",
        "#encoded_certificate = ssl.get_server_certificate(address,ca_certs=os.path.relpath(certifi.where()))\n"
      ],
      "execution_count": 2,
      "outputs": []
    },
    {
      "cell_type": "code",
      "metadata": {
        "colab": {
          "base_uri": "https://localhost:8080/"
        },
        "id": "f5Fdv8rKlDFZ",
        "outputId": "b3c6b9ef-89f9-447e-9b48-95b821739817"
      },
      "source": [
        "#PEM formatted key, the base64 encoded x509 ASN.1 key           Output Type:String\n",
        "print(encoded_certificate)"
      ],
      "execution_count": 3,
      "outputs": [
        {
          "output_type": "stream",
          "name": "stdout",
          "text": [
            "-----BEGIN CERTIFICATE-----\n",
            "MIIFzDCCBLSgAwIBAgIQDRxkUnxA4N1u5TtsHIE1fTANBgkqhkiG9w0BAQsFADA8\n",
            "MQswCQYDVQQGEwJVUzEPMA0GA1UEChMGQW1hem9uMRwwGgYDVQQDExNBbWF6b24g\n",
            "UlNBIDIwNDggTTAxMB4XDTIzMDkyNjAwMDAwMFoXDTI0MTAyNDIzNTk1OVowGzEZ\n",
            "MBcGA1UEAxMQcGlsb3Qud3JpZ2h0LmVkdTCCASIwDQYJKoZIhvcNAQEBBQADggEP\n",
            "ADCCAQoCggEBAL5bWz7piF90iXhPx0AUzL3C7l9u3KCAzebKOq7bFUI0lX2J+xBM\n",
            "Lfw4UWBXpePWzpgCZuOHCr+Pl29N8QfFap4H9gBFD+DEfRcecD6/l27YTt7YfMvC\n",
            "4Qs0TXH/yLANB3wjNpq6vvGZ0O5N/ViVlVN34sa4H/I1z10AFKrG5c0L7kC3iAF0\n",
            "+HWz3bTPlSxk6HSxUZ4TwUntNRfl0auwP9LfeG1TB8dp4DZZW0d9G39siY9pKd9d\n",
            "fbsIqQQECKWq7LwDKSUw5EKSyDgh1CPyYychriYsj9x0QAbca3OYvAMdBuE4Vm83\n",
            "VO7xTFHF+vDC1IL9sUPlL4WxeMWWpucqbFMCAwEAAaOCAukwggLlMB8GA1UdIwQY\n",
            "MBaAFIG4DmOKiRIY5fo7O1CVn+blkBOFMB0GA1UdDgQWBBQs+Po0dDt2KqmSxaQb\n",
            "1r119uH1YTAbBgNVHREEFDASghBwaWxvdC53cmlnaHQuZWR1MBMGA1UdIAQMMAow\n",
            "CAYGZ4EMAQIBMA4GA1UdDwEB/wQEAwIFoDAdBgNVHSUEFjAUBggrBgEFBQcDAQYI\n",
            "KwYBBQUHAwIwOwYDVR0fBDQwMjAwoC6gLIYqaHR0cDovL2NybC5yMm0wMS5hbWF6\n",
            "b250cnVzdC5jb20vcjJtMDEuY3JsMHUGCCsGAQUFBwEBBGkwZzAtBggrBgEFBQcw\n",
            "AYYhaHR0cDovL29jc3AucjJtMDEuYW1hem9udHJ1c3QuY29tMDYGCCsGAQUFBzAC\n",
            "hipodHRwOi8vY3J0LnIybTAxLmFtYXpvbnRydXN0LmNvbS9yMm0wMS5jZXIwDAYD\n",
            "VR0TAQH/BAIwADCCAX4GCisGAQQB1nkCBAIEggFuBIIBagFoAHcA7s3QZNXbGs7F\n",
            "XLedtM0TojKHRny87N7DUUhZRnEftZsAAAGK0mcHbQAABAMASDBGAiEAgaiwZAw2\n",
            "/Oz/sgFo4acneQsxSwJZhrav6O9qVNgUycQCIQDFAiMeah9siwcjSQX/mMUZZbmN\n",
            "ZM++GCI1zGM1m7CILAB2AEiw42vapkc0D+VqAvqdMOscUgHLVt0sgdm7v6s52IRz\n",
            "AAABitJnBzgAAAQDAEcwRQIhAOB/7azueexvSd2z9Qg350YB5GAf7zjhlV2Uadel\n",
            "wVBXAiACuUtmhHYC/YC++gjTiNyG/yIaN0g4OIoS1YNZFBBDzAB1ANq2v2s/tbYi\n",
            "n5vCu1xr6HCRcWy7UYSFNL2kPTBI1/urAAABitJnB8QAAAQDAEYwRAIgIllI3yq1\n",
            "wgEwmgJohDM/UTYNffeqyFOzyhEIC8rql/cCIBBvpyBWU90Qc84vBcy6hkwrH632\n",
            "M9WIFy9cYpFHz67mMA0GCSqGSIb3DQEBCwUAA4IBAQAFM3pQ+mx7V3KM0gi/CDFl\n",
            "v35n0S9XVTJVs9+1heEkDkv36Hv0ddqEPzdD2yH8oAtXfObiqDDtunFgqLRWKy3U\n",
            "ZgXx73L5rAYN35mVSuxKnamGTeAY3aziA8NSENXQps+Z6vQY90hqM8rA/SWaH2It\n",
            "65+R/llcMH9V4U7y7Huqswz3aTVCst+rbX/VUwpawFD+ENOrqBJOsrmoKi2gOZKO\n",
            "mTC7yw2pQXplE9gODaxFmTu5CdGXP+UR5AZalNrz+Kh3mYMp0LZ21G8diG7vdt64\n",
            "sVESBhkn816aKtvkttV04DYB2OC1q2mCfOjcMD7uWhvEpt7kfxqmkibPyo/W8Nn0\n",
            "-----END CERTIFICATE-----\n",
            "\n"
          ]
        }
      ]
    },
    {
      "cell_type": "markdown",
      "metadata": {
        "id": "sp0navz2tmAV"
      },
      "source": [
        "#Decoding the certificate"
      ]
    },
    {
      "cell_type": "code",
      "metadata": {
        "id": "7M8j3UzVADIb"
      },
      "source": [
        "#string type to bytes conversion\n",
        "encoded_certificate = bytes(encoded_certificate, 'utf-8')\n",
        "\n",
        "#decoding PEM using x509 of cryptography\n",
        "decoded_certificate = x509.load_pem_x509_certificate(encoded_certificate)"
      ],
      "execution_count": 4,
      "outputs": []
    },
    {
      "cell_type": "code",
      "metadata": {
        "colab": {
          "base_uri": "https://localhost:8080/"
        },
        "id": "bCOwpHExr30n",
        "outputId": "1777f8b7-84a0-424a-f479-b27267de5e96"
      },
      "source": [
        "#decoded cerificate\n",
        "print(decoded_certificate)"
      ],
      "execution_count": 5,
      "outputs": [
        {
          "output_type": "stream",
          "name": "stdout",
          "text": [
            "<Certificate(subject=<Name(CN=pilot.wright.edu)>, ...)>\n"
          ]
        }
      ]
    },
    {
      "cell_type": "markdown",
      "metadata": {
        "id": "N-L1ZEIBtdEZ"
      },
      "source": [
        "#Extracting the information from the decoded certificate"
      ]
    },
    {
      "cell_type": "code",
      "metadata": {
        "colab": {
          "base_uri": "https://localhost:8080/"
        },
        "id": "hnlVGGemyaCB",
        "outputId": "f39b97d6-d62a-41e9-a96f-99a7163aa4cd"
      },
      "source": [
        "#basic information of the certificate\n",
        "print(\"Not Valid After:            \",decoded_certificate.not_valid_after)\n",
        "print(\"Not Valid Before:           \",decoded_certificate.not_valid_before)\n",
        "print(\"Issuer:                     \",decoded_certificate.issuer)\n",
        "print(\"Serial Number:              \",decoded_certificate.serial_number)\n",
        "print(\"Subject:                    \",decoded_certificate.subject)\n",
        "print(\"Version:                    \",decoded_certificate.version)"
      ],
      "execution_count": 6,
      "outputs": [
        {
          "output_type": "stream",
          "name": "stdout",
          "text": [
            "Not Valid After:             2024-10-24 23:59:59\n",
            "Not Valid Before:            2023-09-26 00:00:00\n",
            "Issuer:                      <Name(C=US,O=Amazon,CN=Amazon RSA 2048 M01)>\n",
            "Serial Number:               17427383033367147223182009405347542397\n",
            "Subject:                     <Name(CN=pilot.wright.edu)>\n",
            "Version:                     Version.v3\n"
          ]
        }
      ]
    },
    {
      "cell_type": "code",
      "metadata": {
        "colab": {
          "base_uri": "https://localhost:8080/"
        },
        "id": "n5wwF2jHq5fj",
        "outputId": "1c870b04-d80a-4781-cdb2-8d0765bbac7d"
      },
      "source": [
        "#names of different properties\n",
        "print('Display of different feature names of the certificate - (Keys):\\n')\n",
        "for extension in decoded_certificate.extensions:\n",
        "  print(\"\\t\",str(extension.oid).split(\"=\")[2][:-2])"
      ],
      "execution_count": 7,
      "outputs": [
        {
          "output_type": "stream",
          "name": "stdout",
          "text": [
            "Display of different feature names of the certificate - (Keys):\n",
            "\n",
            "\t authorityKeyIdentifier\n",
            "\t subjectKeyIdentifier\n",
            "\t subjectAltName\n",
            "\t certificatePolicies\n",
            "\t keyUsage\n",
            "\t extendedKeyUsage\n",
            "\t cRLDistributionPoints\n",
            "\t authorityInfoAccess\n",
            "\t basicConstraints\n",
            "\t signedCertificateTimestampList\n"
          ]
        }
      ]
    },
    {
      "cell_type": "code",
      "metadata": {
        "colab": {
          "base_uri": "https://localhost:8080/"
        },
        "id": "LB1e0BSOqggo",
        "outputId": "93d0f4ec-99c4-4ab0-bcd3-a6ed6fc5687d"
      },
      "source": [
        "#Subject Alternative Names\n",
        "for name in decoded_certificate.extensions[5].value:\n",
        "  print(str(name).split('=')[1][:-2])"
      ],
      "execution_count": 8,
      "outputs": [
        {
          "output_type": "stream",
          "name": "stdout",
          "text": [
            "1.3.6.1.5.5.7.3.1, na\n",
            "1.3.6.1.5.5.7.3.2, na\n"
          ]
        }
      ]
    },
    {
      "cell_type": "markdown",
      "metadata": {
        "id": "KYCFCWsw4led"
      },
      "source": [
        "#Certificate for the CA (Certificate Authority)"
      ]
    },
    {
      "cell_type": "code",
      "metadata": {
        "id": "5Y3LnV6kMyxz",
        "colab": {
          "base_uri": "https://localhost:8080/"
        },
        "outputId": "3ea12c1d-a060-4ace-ee6b-d96bb74db01f"
      },
      "source": [
        "#creating SSL context\n",
        "context = ssl.SSLContext(ssl.PROTOCOL_TLSv1_2)\n",
        "\n",
        "#ensure to check hostname by the flag 'True' for socket connection\n",
        "context.check_hostname = True\n",
        "\n",
        "#loading all default certificates for the context\n",
        "context.load_default_certs()"
      ],
      "execution_count": 9,
      "outputs": [
        {
          "output_type": "stream",
          "name": "stderr",
          "text": [
            "<ipython-input-9-677bffa69388>:2: DeprecationWarning: ssl.PROTOCOL_TLSv1_2 is deprecated\n",
            "  context = ssl.SSLContext(ssl.PROTOCOL_TLSv1_2)\n"
          ]
        }
      ]
    },
    {
      "cell_type": "code",
      "metadata": {
        "id": "L4a8vHFzLkWm"
      },
      "source": [
        "#creating socket\n",
        "s = socket.socket(socket.AF_INET, socket.SOCK_STREAM)\n",
        "\n",
        "#wrapping socket and context\n",
        "ssl_sock = context.wrap_socket(s, server_hostname=host)\n",
        "\n",
        "#establishing connection to the address\n",
        "ssl_sock.connect(address)"
      ],
      "execution_count": 10,
      "outputs": []
    },
    {
      "cell_type": "code",
      "metadata": {
        "colab": {
          "base_uri": "https://localhost:8080/"
        },
        "id": "U47w2K_WFLwM",
        "outputId": "a195e8fb-7669-4a68-a6ca-2c79012ff9f5"
      },
      "source": [
        "#the function ssl_sock.getpeercert() returns the disctionary instance of different keys/principals like issuer,subject\n",
        "dictionary = ssl_sock.getpeercert()\n",
        "print(dictionary)\n",
        "#printing all the information of the certificate from the above dictionary\n",
        "print(\"Issuer: \",dictionary['issuer'])\n",
        "print(\"\\nSubject: \",dictionary['subject'])\n",
        "print(\"\\nVersion: \",dictionary['version'])\n",
        "print(\"\\nSerial Number: \",dictionary['serialNumber'])\n",
        "print(\"\\nNot Valid After: \",dictionary['notAfter'])\n",
        "print(\"\\nNot Valid Before:  \",dictionary['notBefore'])\n",
        "print(\"\\nOCSP: \",dictionary['OCSP'])\n",
        "print(\"\\ncaIssuers: \",dictionary['caIssuers'])\n",
        "print(\"\\ncrlDistributionPoints: \",dictionary['crlDistributionPoints'])\n",
        "print(\"\\nsubjectAltName:  \",end=\"\")\n",
        "print(\"\\t\",dictionary['subjectAltName'][0][1])\n",
        "for i in range(1,len(dictionary['subjectAltName'])):\n",
        "  print(\"\\t\\t\\t\",dictionary['subjectAltName'][i][1])"
      ],
      "execution_count": 11,
      "outputs": [
        {
          "output_type": "stream",
          "name": "stdout",
          "text": [
            "{'subject': ((('commonName', 'pilot.wright.edu'),),), 'issuer': ((('countryName', 'US'),), (('organizationName', 'Amazon'),), (('commonName', 'Amazon RSA 2048 M01'),)), 'version': 3, 'serialNumber': '0D1C64527C40E0DD6EE53B6C1C81357D', 'notBefore': 'Sep 26 00:00:00 2023 GMT', 'notAfter': 'Oct 24 23:59:59 2024 GMT', 'subjectAltName': (('DNS', 'pilot.wright.edu'),), 'OCSP': ('http://ocsp.r2m01.amazontrust.com',), 'caIssuers': ('http://crt.r2m01.amazontrust.com/r2m01.cer',), 'crlDistributionPoints': ('http://crl.r2m01.amazontrust.com/r2m01.crl',)}\n",
            "Issuer:  ((('countryName', 'US'),), (('organizationName', 'Amazon'),), (('commonName', 'Amazon RSA 2048 M01'),))\n",
            "\n",
            "Subject:  ((('commonName', 'pilot.wright.edu'),),)\n",
            "\n",
            "Version:  3\n",
            "\n",
            "Serial Number:  0D1C64527C40E0DD6EE53B6C1C81357D\n",
            "\n",
            "Not Valid After:  Oct 24 23:59:59 2024 GMT\n",
            "\n",
            "Not Valid Before:   Sep 26 00:00:00 2023 GMT\n",
            "\n",
            "OCSP:  ('http://ocsp.r2m01.amazontrust.com',)\n",
            "\n",
            "caIssuers:  ('http://crt.r2m01.amazontrust.com/r2m01.cer',)\n",
            "\n",
            "crlDistributionPoints:  ('http://crl.r2m01.amazontrust.com/r2m01.crl',)\n",
            "\n",
            "subjectAltName:  \t pilot.wright.edu\n"
          ]
        }
      ]
    },
    {
      "cell_type": "markdown",
      "metadata": {
        "id": "mIqGUcqUl1kF"
      },
      "source": [
        "#Resources:\n",
        "\n",
        "*Basix syntax for SSL*:\n",
        "https://pythontic.com/ssl\n",
        "\n",
        "*Decoding PEM using crypography*: https://cryptography.io/en/latest/x509/reference/#loading-certificates\n",
        "\n",
        "*Library for entire SSL*: https://docs.python.org/3/library/ssl.html\n",
        "\n",
        "Exclusivily for certificate chains: https://docs.python.org/3/library/ssl.html#certificates\n",
        "\n",
        "\n"
      ]
    }
  ]
}